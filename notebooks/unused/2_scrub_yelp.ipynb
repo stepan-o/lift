{
 "cells": [
  {
   "cell_type": "markdown",
   "metadata": {},
   "source": [
    "# Scrub Yelp dataset\n",
    "Cleanup plan:\n",
    "\n",
    "1. Remove records with no review text\n",
    "2. Remove records with duplicated text\n",
    "3. Fix referential integrity constraints"
   ]
  },
  {
   "cell_type": "markdown",
   "metadata": {},
   "source": [
    "## Import dependencies"
   ]
  },
  {
   "cell_type": "code",
   "execution_count": 1,
   "metadata": {},
   "outputs": [],
   "source": [
    "import numpy as np\n",
    "import pandas as pd\n",
    "import matplotlib.pyplot as plt\n",
    "import seaborn as sns\n",
    "import os\n",
    "from time import time"
   ]
  },
  {
   "cell_type": "markdown",
   "metadata": {},
   "source": [
    "## Read Yelp data"
   ]
  },
  {
   "cell_type": "code",
   "execution_count": 2,
   "metadata": {},
   "outputs": [
    {
     "data": {
      "text/plain": [
       "['yelp_public_business.csv',\n",
       " 'corpus',\n",
       " 'business.csv',\n",
       " 'user.csv',\n",
       " 'tip.csv',\n",
       " 'review.csv',\n",
       " 'yelp_public_yelp_user.csv',\n",
       " 'checkin.csv']"
      ]
     },
     "execution_count": 2,
     "metadata": {},
     "output_type": "execute_result"
    }
   ],
   "source": [
    "data_dir = '../../data/'\n",
    "os.listdir(data_dir)"
   ]
  },
  {
   "cell_type": "code",
   "execution_count": 3,
   "metadata": {},
   "outputs": [
    {
     "name": "stdout",
     "output_type": "stream",
     "text": [
      "----- DataFrame loaded\n",
      "in 66.45 seconds\n",
      "with 6,685,900 rows\n",
      "and 9 columns\n",
      "-- Column names:\n",
      " Index(['stars', 'review_id', 'user_id', 'funny', 'text', 'date', 'useful',\n",
      "       'cool', 'business_id'],\n",
      "      dtype='object')\n"
     ]
    }
   ],
   "source": [
    "t = time()\n",
    "df_review = pd.read_csv(data_dir + 'review.csv')\n",
    "elapsed = time() - t\n",
    "print(\"----- DataFrame loaded\"\n",
    "      \"\\nin {0:.2f} seconds\".format(elapsed) +\n",
    "      \"\\nwith {0:,} rows\\nand {1:,} columns\"\n",
    "      .format(df_review.shape[0], df_review.shape[1]) +\n",
    "      \"\\n-- Column names:\\n\", df_review.columns)"
   ]
  },
  {
   "cell_type": "code",
   "execution_count": 4,
   "metadata": {},
   "outputs": [
    {
     "name": "stderr",
     "output_type": "stream",
     "text": [
      "/snap/jupyter/6/lib/python3.7/site-packages/IPython/core/interactiveshell.py:3049: DtypeWarning: Columns (16) have mixed types. Specify dtype option on import or set low_memory=False.\n",
      "  interactivity=interactivity, compiler=compiler, result=result)\n"
     ]
    },
    {
     "name": "stdout",
     "output_type": "stream",
     "text": [
      "----- DataFrame loaded\n",
      "in 22.96 seconds\n",
      "with 1,577,383 rows\n",
      "and 22 columns\n",
      "-- Column names:\n",
      " Index(['fans', 'compliment_cute', 'useful', 'compliment_cool', 'yelping_since',\n",
      "       'compliment_funny', 'review_count', 'average_stars', 'compliment_more',\n",
      "       'funny', 'compliment_list', 'compliment_writer', 'friends',\n",
      "       'compliment_hot', 'compliment_plain', 'name', 'elite',\n",
      "       'compliment_photos', 'compliment_profile', 'compliment_note', 'user_id',\n",
      "       'cool'],\n",
      "      dtype='object')\n"
     ]
    }
   ],
   "source": [
    "t = time()\n",
    "df_user = pd.read_csv(data_dir + 'yelp_public_yelp_user.csv')\n",
    "elapsed = time() - t\n",
    "print(\"----- DataFrame loaded\"\n",
    "      \"\\nin {0:.2f} seconds\".format(elapsed) +\n",
    "      \"\\nwith {0:,} rows\\nand {1:,} columns\"\n",
    "      .format(df_user.shape[0], df_user.shape[1]) +\n",
    "      \"\\n-- Column names:\\n\", df_user.columns)"
   ]
  },
  {
   "cell_type": "code",
   "execution_count": 5,
   "metadata": {},
   "outputs": [
    {
     "name": "stderr",
     "output_type": "stream",
     "text": [
      "/snap/jupyter/6/lib/python3.7/site-packages/IPython/core/interactiveshell.py:3049: DtypeWarning: Columns (10,35,37) have mixed types. Specify dtype option on import or set low_memory=False.\n",
      "  interactivity=interactivity, compiler=compiler, result=result)\n"
     ]
    },
    {
     "name": "stdout",
     "output_type": "stream",
     "text": [
      "----- DataFrame loaded\n",
      "in 2.86 seconds\n",
      "with 192,506 rows\n",
      "and 60 columns\n",
      "-- Column names:\n",
      " Index(['attributes.Alcohol', 'hours', 'hours.Thursday', 'review_count',\n",
      "       'stars', 'attributes.RestaurantsGoodForGroups', 'name',\n",
      "       'attributes.BikeParking', 'hours.Tuesday', 'attributes.GoodForDancing',\n",
      "       'attributes.Open24Hours', 'attributes.RestaurantsPriceRange2',\n",
      "       'postal_code', 'attributes.Corkage', 'longitude',\n",
      "       'attributes.AgesAllowed', 'hours.Friday', 'attributes.BYOBCorkage',\n",
      "       'attributes.HappyHour', 'attributes.RestaurantsTableService', 'is_open',\n",
      "       'hours.Sunday', 'attributes.WheelchairAccessible', 'attributes.WiFi',\n",
      "       'attributes.AcceptsInsurance', 'state', 'attributes.CoatCheck',\n",
      "       'attributes.BusinessAcceptsBitcoin', 'attributes.BestNights',\n",
      "       'attributes.HairSpecializesIn', 'attributes.DietaryRestrictions',\n",
      "       'attributes.OutdoorSeating', 'attributes.NoiseLevel',\n",
      "       'attributes.RestaurantsAttire', 'attributes.GoodForMeal',\n",
      "       'attributes.BYOB', 'hours.Monday',\n",
      "       'attributes.RestaurantsCounterService', 'latitude',\n",
      "       'attributes.GoodForKids', 'categories', 'attributes.Music',\n",
      "       'attributes.Smoking', 'business_id', 'attributes.Caters',\n",
      "       'attributes.DriveThru', 'attributes.ByAppointmentOnly', 'city',\n",
      "       'attributes.HasTV', 'hours.Saturday', 'attributes.Ambience',\n",
      "       'attributes.DogsAllowed', 'attributes.RestaurantsTakeOut',\n",
      "       'hours.Wednesday', 'attributes.BusinessParking',\n",
      "       'attributes.BusinessAcceptsCreditCards',\n",
      "       'attributes.RestaurantsReservations', 'attributes.RestaurantsDelivery',\n",
      "       'address', 'attributes'],\n",
      "      dtype='object')\n"
     ]
    }
   ],
   "source": [
    "t = time()\n",
    "df_business = pd.read_csv(data_dir + 'yelp_public_business.csv')\n",
    "elapsed = time() - t\n",
    "print(\"----- DataFrame loaded\"\n",
    "      \"\\nin {0:.2f} seconds\".format(elapsed) +\n",
    "      \"\\nwith {0:,} rows\\nand {1:,} columns\"\n",
    "      .format(df_business.shape[0], df_business.shape[1]) +\n",
    "      \"\\n-- Column names:\\n\", df_business.columns)"
   ]
  },
  {
   "cell_type": "markdown",
   "metadata": {},
   "source": [
    "## Reviews with no text"
   ]
  },
  {
   "cell_type": "code",
   "execution_count": 6,
   "metadata": {},
   "outputs": [
    {
     "data": {
      "text/plain": [
       "2"
      ]
     },
     "execution_count": 6,
     "metadata": {},
     "output_type": "execute_result"
    }
   ],
   "source": [
    "df_review['text_len'] = df_review['text'].str.len()\n",
    "mask1 = df_review['text_len'].isnull()\n",
    "mask1.sum()"
   ]
  },
  {
   "cell_type": "code",
   "execution_count": 7,
   "metadata": {},
   "outputs": [
    {
     "data": {
      "text/html": [
       "<div>\n",
       "<style scoped>\n",
       "    .dataframe tbody tr th:only-of-type {\n",
       "        vertical-align: middle;\n",
       "    }\n",
       "\n",
       "    .dataframe tbody tr th {\n",
       "        vertical-align: top;\n",
       "    }\n",
       "\n",
       "    .dataframe thead th {\n",
       "        text-align: right;\n",
       "    }\n",
       "</style>\n",
       "<table border=\"1\" class=\"dataframe\">\n",
       "  <thead>\n",
       "    <tr style=\"text-align: right;\">\n",
       "      <th></th>\n",
       "      <th>stars</th>\n",
       "      <th>review_id</th>\n",
       "      <th>user_id</th>\n",
       "      <th>funny</th>\n",
       "      <th>text</th>\n",
       "      <th>date</th>\n",
       "      <th>useful</th>\n",
       "      <th>cool</th>\n",
       "      <th>business_id</th>\n",
       "      <th>text_len</th>\n",
       "    </tr>\n",
       "  </thead>\n",
       "  <tbody>\n",
       "    <tr>\n",
       "      <th>3427823</th>\n",
       "      <td>1.0</td>\n",
       "      <td>hpY467Acucmh3tCmEYGiDw</td>\n",
       "      <td>pUKAjAaSMkxiJ1WCIFSsBQ</td>\n",
       "      <td>2</td>\n",
       "      <td>NaN</td>\n",
       "      <td>2014-11-15 21:14:34</td>\n",
       "      <td>7</td>\n",
       "      <td>1</td>\n",
       "      <td>I7XWtKL1oHohZCtCCyQIog</td>\n",
       "      <td>NaN</td>\n",
       "    </tr>\n",
       "    <tr>\n",
       "      <th>6334066</th>\n",
       "      <td>3.0</td>\n",
       "      <td>iHdxK8lwkYn0rlNh-REuGQ</td>\n",
       "      <td>v3DIq18Z30KNwyUvBXtXEA</td>\n",
       "      <td>0</td>\n",
       "      <td>NaN</td>\n",
       "      <td>2014-12-26 08:32:06</td>\n",
       "      <td>0</td>\n",
       "      <td>0</td>\n",
       "      <td>oXoVJ0xKv82cBo9U6oEjlQ</td>\n",
       "      <td>NaN</td>\n",
       "    </tr>\n",
       "  </tbody>\n",
       "</table>\n",
       "</div>"
      ],
      "text/plain": [
       "         stars               review_id                 user_id  funny text  \\\n",
       "3427823    1.0  hpY467Acucmh3tCmEYGiDw  pUKAjAaSMkxiJ1WCIFSsBQ      2  NaN   \n",
       "6334066    3.0  iHdxK8lwkYn0rlNh-REuGQ  v3DIq18Z30KNwyUvBXtXEA      0  NaN   \n",
       "\n",
       "                        date  useful  cool             business_id  text_len  \n",
       "3427823  2014-11-15 21:14:34       7     1  I7XWtKL1oHohZCtCCyQIog       NaN  \n",
       "6334066  2014-12-26 08:32:06       0     0  oXoVJ0xKv82cBo9U6oEjlQ       NaN  "
      ]
     },
     "execution_count": 7,
     "metadata": {},
     "output_type": "execute_result"
    }
   ],
   "source": [
    "df_review[mask1]"
   ]
  },
  {
   "cell_type": "code",
   "execution_count": 8,
   "metadata": {},
   "outputs": [
    {
     "name": "stdout",
     "output_type": "stream",
     "text": [
      "Records with no review text were dropped. 6,685,898 records remain in the DataFrame.\n"
     ]
    }
   ],
   "source": [
    "df_review = df_review[~mask1]\n",
    "print(\"Records with no review text were dropped. {0:,} records remain in the DataFrame.\"\n",
    "      .format(len(df_review)))"
   ]
  },
  {
   "cell_type": "markdown",
   "metadata": {},
   "source": [
    "## Duplicate check"
   ]
  },
  {
   "cell_type": "code",
   "execution_count": 9,
   "metadata": {},
   "outputs": [
    {
     "data": {
      "text/plain": [
       "995610                                                     !\n",
       "5053581                                                    !\n",
       "4719326    !!!Times are changing and so is Pokedon!!!\\n\\n...\n",
       "4701880    !!!Times are changing and so is Pokedon!!!\\n\\n...\n",
       "1089545    \"BBQ Brisket Hash\" turned out to just be flavo...\n",
       "1300803    \"BBQ Brisket Hash\" turned out to just be flavo...\n",
       "2932293    \"CARL STORGAARD\"\\n\\nRemember this name as you ...\n",
       "2963099    \"CARL STORGAARD\"\\n\\nRemember this name as you ...\n",
       "2865313    \"COOKING IS AN ART MASTERPIECES TAKE TIME\" :)\\...\n",
       "2857689    \"COOKING IS AN ART MASTERPIECES TAKE TIME\" :)\\...\n",
       "Name: text, dtype: object"
      ]
     },
     "execution_count": 9,
     "metadata": {},
     "output_type": "execute_result"
    }
   ],
   "source": [
    "mask1 = df_review.duplicated(subset=['text'], keep=False)\n",
    "df_review.loc[mask1, 'text'].sort_values().head(10)"
   ]
  },
  {
   "cell_type": "markdown",
   "metadata": {},
   "source": [
    "### Remove records with duplicate review text"
   ]
  },
  {
   "cell_type": "code",
   "execution_count": 10,
   "metadata": {},
   "outputs": [
    {
     "data": {
      "text/plain": [
       "17162"
      ]
     },
     "execution_count": 10,
     "metadata": {},
     "output_type": "execute_result"
    }
   ],
   "source": [
    "mask1 = df_review.duplicated(subset=['text'])\n",
    "mask1.sum()"
   ]
  },
  {
   "cell_type": "code",
   "execution_count": 11,
   "metadata": {},
   "outputs": [
    {
     "name": "stdout",
     "output_type": "stream",
     "text": [
      "Records with duplicated text were dropped. 6,668,736 records remain in the DataFrame.\n"
     ]
    }
   ],
   "source": [
    "df_review = df_review[~mask1]\n",
    "print(\"Records with duplicated text were dropped. {0:,} records remain in the DataFrame.\"\n",
    "      .format(len(df_review)))"
   ]
  },
  {
   "cell_type": "markdown",
   "metadata": {},
   "source": [
    "## Fix referential integrity constraints"
   ]
  },
  {
   "cell_type": "markdown",
   "metadata": {},
   "source": [
    "### $\\texttt{review}$ (FK: $\\texttt{user_id}$) and $\\texttt{user}$ (PK: $\\texttt{user_id}$)"
   ]
  },
  {
   "cell_type": "code",
   "execution_count": 12,
   "metadata": {},
   "outputs": [
    {
     "data": {
      "text/plain": [
       "357285"
      ]
     },
     "execution_count": 12,
     "metadata": {},
     "output_type": "execute_result"
    }
   ],
   "source": [
    "pk = 'user_id'\n",
    "fk = 'user_id'\n",
    "mask1 = df_review[fk].isin(df_user[pk])\n",
    "len(df_review) - mask1.sum()"
   ]
  },
  {
   "cell_type": "code",
   "execution_count": 13,
   "metadata": {},
   "outputs": [
    {
     "name": "stdout",
     "output_type": "stream",
     "text": [
      "Values of df2 not present in the Primary Key of df1 were dropped!\n",
      "357,285 rows out of 6,668,736 were removed. 6,311,451 rows remaining. \n",
      "Took 3.83 seconds.\n"
     ]
    }
   ],
   "source": [
    "t = time()\n",
    "pk = 'user_id'\n",
    "fk = 'user_id'\n",
    "mask1 = df_review[fk].isin(df_user[pk])\n",
    "old_len = len(df_review)\n",
    "df_review = df_review[mask1]\n",
    "elapsed = time() - t\n",
    "print(\"Values of df2 not present in the Primary Key of df1 were dropped!\"\n",
    "      \"\\n{0:,} rows out of {1:,} were removed. {2:,} rows remaining.\"\n",
    "      .format(old_len - len(df_review),\n",
    "              old_len,\n",
    "              len(df_review)),\n",
    "      \"\\nTook {0:,.2f} seconds.\".format(elapsed))"
   ]
  },
  {
   "cell_type": "markdown",
   "metadata": {},
   "source": [
    "### $\\texttt{review}$ (FK: $\\texttt{business_id}$) and $\\texttt{business}$ (PK: $\\texttt{business_id}$)"
   ]
  },
  {
   "cell_type": "code",
   "execution_count": 14,
   "metadata": {},
   "outputs": [
    {
     "data": {
      "text/plain": [
       "805"
      ]
     },
     "execution_count": 14,
     "metadata": {},
     "output_type": "execute_result"
    }
   ],
   "source": [
    "pk = 'business_id'\n",
    "fk = 'business_id'\n",
    "mask1 = df_review[fk].isin(df_business[pk])\n",
    "len(df_review) - mask1.sum()"
   ]
  },
  {
   "cell_type": "code",
   "execution_count": 15,
   "metadata": {},
   "outputs": [
    {
     "name": "stdout",
     "output_type": "stream",
     "text": [
      "Values of df2 not present in the Primary Key of df1 were dropped!\n",
      "805 rows out of 6,311,451 were removed. 6,310,646 rows remaining. \n",
      "Took 2.34 seconds.\n"
     ]
    }
   ],
   "source": [
    "t = time()\n",
    "pk = 'business_id'\n",
    "fk = 'business_id'\n",
    "mask1 = df_review[fk].isin(df_business[pk])\n",
    "old_len = len(df_review)\n",
    "df_review = df_review[mask1]\n",
    "elapsed = time() - t\n",
    "print(\"Values of df2 not present in the Primary Key of df1 were dropped!\"\n",
    "      \"\\n{0:,} rows out of {1:,} were removed. {2:,} rows remaining.\"\n",
    "      .format(old_len - len(df_review),\n",
    "              old_len,\n",
    "              len(df_review)),\n",
    "      \"\\nTook {0:,.2f} seconds.\".format(elapsed))"
   ]
  },
  {
   "cell_type": "markdown",
   "metadata": {},
   "source": [
    "## Save results to a .csv file"
   ]
  },
  {
   "cell_type": "code",
   "execution_count": 17,
   "metadata": {},
   "outputs": [
    {
     "name": "stdout",
     "output_type": "stream",
     "text": [
      "DataFrame saved to file:\n",
      " ../../data/review_cleaned.csv \n",
      "took 160.20 seconds (2.67 minutes)\n"
     ]
    }
   ],
   "source": [
    "save_path = data_dir + 'review_cleaned.csv'\n",
    "t = time()\n",
    "df_review.to_csv(save_path, index=False)\n",
    "elapsed = time() - t\n",
    "print(\"DataFrame saved to file:\\n\", save_path,\n",
    "      \"\\ntook {0:.2f} seconds ({1:.2f} minutes)\".format(elapsed, elapsed / 60))"
   ]
  }
 ],
 "metadata": {
  "kernelspec": {
   "display_name": "Python 3",
   "language": "python",
   "name": "python3"
  },
  "language_info": {
   "codemirror_mode": {
    "name": "ipython",
    "version": 3
   },
   "file_extension": ".py",
   "mimetype": "text/x-python",
   "name": "python",
   "nbconvert_exporter": "python",
   "pygments_lexer": "ipython3",
   "version": "3.7.3"
  }
 },
 "nbformat": 4,
 "nbformat_minor": 2
}
