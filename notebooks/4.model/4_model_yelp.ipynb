{
 "cells": [
  {
   "cell_type": "markdown",
   "metadata": {},
   "source": [
    "# Modeling of Yelp dataset"
   ]
  },
  {
   "cell_type": "code",
   "execution_count": 1,
   "metadata": {},
   "outputs": [],
   "source": [
    "random_state = 0"
   ]
  },
  {
   "cell_type": "code",
   "execution_count": 2,
   "metadata": {},
   "outputs": [],
   "source": [
    "import pandas as pd\n",
    "import matplotlib\n",
    "import seaborn as sns\n",
    "import os\n",
    "from sklearn.feature_extraction.text import CountVectorizer, TfidfVectorizer\n",
    "from sklearn.model_selection import train_test_split\n",
    "from sklearn.pipeline import Pipeline\n",
    "from sklearn.linear_model import LogisticRegression\n",
    "from sklearn.svm import LinearSVC\n",
    "from sklearn.naive_bayes import MultinomialNB, ComplementNB\n",
    "from sklearn.metrics import classification_report\n",
    "from time import time"
   ]
  },
  {
   "cell_type": "code",
   "execution_count": 3,
   "metadata": {},
   "outputs": [
    {
     "data": {
      "text/plain": [
       "['review.csv']"
      ]
     },
     "execution_count": 3,
     "metadata": {},
     "output_type": "execute_result"
    }
   ],
   "source": [
    "data_dir = '../../data/'\n",
    "os.listdir(data_dir)"
   ]
  },
  {
   "cell_type": "code",
   "execution_count": 4,
   "metadata": {},
   "outputs": [
    {
     "name": "stdout",
     "output_type": "stream",
     "text": [
      "----- DataFrame loaded\n",
      "in 65.14 seconds\n",
      "with 6,685,900 rows\n",
      "and 9 columns\n",
      "-- Column names:\n",
      " Index(['stars', 'review_id', 'user_id', 'funny', 'text', 'date', 'useful',\n",
      "       'cool', 'business_id'],\n",
      "      dtype='object')\n"
     ]
    }
   ],
   "source": [
    "t = time()\n",
    "df = pd.read_csv(data_dir + 'review.csv')\n",
    "elapsed = time() - t\n",
    "print(\"----- DataFrame loaded\"\n",
    "      \"\\nin {0:.2f} seconds\".format(elapsed) +\n",
    "      \"\\nwith {0:,} rows\\nand {1:,} columns\"\n",
    "      .format(df.shape[0], df.shape[1]) +\n",
    "      \"\\n-- Column names:\\n\", df.columns)"
   ]
  },
  {
   "cell_type": "markdown",
   "metadata": {},
   "source": [
    "## Drop missing values"
   ]
  },
  {
   "cell_type": "code",
   "execution_count": 5,
   "metadata": {},
   "outputs": [
    {
     "name": "stdout",
     "output_type": "stream",
     "text": [
      "Records with no review text were dropped. 6,685,898 records remain in the DataFrame.\n"
     ]
    }
   ],
   "source": [
    "mask1 = df['text'].isnull()\n",
    "df = df[~mask1]\n",
    "print(\"Records with no review text were dropped. {0:,} records remain in the DataFrame.\".format(len(df)))"
   ]
  },
  {
   "cell_type": "markdown",
   "metadata": {},
   "source": [
    "## Train and test classification algorithms"
   ]
  },
  {
   "cell_type": "code",
   "execution_count": 6,
   "metadata": {},
   "outputs": [
    {
     "data": {
      "text/plain": [
       "['runners', 'like', 'running', 'and', 'thus', 'they', 'run']"
      ]
     },
     "execution_count": 6,
     "metadata": {},
     "output_type": "execute_result"
    }
   ],
   "source": [
    "def tokenizer(text):\n",
    "    return text.split()\n",
    "tokenizer('runners like running and thus they run')"
   ]
  },
  {
   "cell_type": "code",
   "execution_count": 7,
   "metadata": {
    "scrolled": true
   },
   "outputs": [],
   "source": [
    "X = df['text']\n",
    "y = df['stars']\n",
    "X_train, X_test, y_train, y_test = \\\n",
    "    train_test_split(X, y, test_size=0.3, random_state=random_state, stratify=y)"
   ]
  },
  {
   "cell_type": "markdown",
   "metadata": {},
   "source": [
    "### Multinomial Naive Bayes"
   ]
  },
  {
   "cell_type": "code",
   "execution_count": 9,
   "metadata": {},
   "outputs": [
    {
     "name": "stdout",
     "output_type": "stream",
     "text": [
      "Model fit, took 667.16 seconds (11.12 minutes)\n",
      "              precision    recall  f1-score   support\n",
      "\n",
      "         1.0       0.64      0.74      0.68    300647\n",
      "         2.0       0.35      0.26      0.30    162718\n",
      "         3.0       0.43      0.35      0.38    221784\n",
      "         4.0       0.46      0.63      0.53    440696\n",
      "         5.0       0.82      0.71      0.76    879925\n",
      "\n",
      "    accuracy                           0.62   2005770\n",
      "   macro avg       0.54      0.54      0.53   2005770\n",
      "weighted avg       0.63      0.62      0.62   2005770\n",
      "\n"
     ]
    }
   ],
   "source": [
    "t = time()\n",
    "\n",
    "bow = CountVectorizer(ngram_range=(1,1), tokenizer=tokenizer)\n",
    "\n",
    "multinb_tfidf = Pipeline([('vect', bow), ('clf', MultinomialNB())])\n",
    "\n",
    "multinb_tfidf.fit(X_train, y_train)\n",
    "\n",
    "y_pred = multinb_tfidf.predict(X_test)\n",
    "\n",
    "elapsed = time() - t\n",
    "\n",
    "print(\"Model fit, took {0:,.2f} seconds ({1:,.2f} minutes)\".format(elapsed, elapsed / 60))\n",
    "print(classification_report(y_test, y_pred))"
   ]
  },
  {
   "cell_type": "markdown",
   "metadata": {},
   "source": [
    "### Complement Naive Bayes"
   ]
  },
  {
   "cell_type": "code",
   "execution_count": 8,
   "metadata": {},
   "outputs": [
    {
     "name": "stdout",
     "output_type": "stream",
     "text": [
      "Model fit, took 663.00 seconds (11.05 minutes)\n",
      "              precision    recall  f1-score   support\n",
      "\n",
      "         1.0       0.55      0.89      0.68    300647\n",
      "         2.0       0.44      0.08      0.13    162718\n",
      "         3.0       0.43      0.16      0.24    221784\n",
      "         4.0       0.46      0.51      0.48    440696\n",
      "         5.0       0.78      0.81      0.80    879925\n",
      "\n",
      "    accuracy                           0.63   2005770\n",
      "   macro avg       0.53      0.49      0.47   2005770\n",
      "weighted avg       0.61      0.63      0.59   2005770\n",
      "\n"
     ]
    }
   ],
   "source": [
    "t = time()\n",
    "\n",
    "bow = CountVectorizer(ngram_range=(1,1), tokenizer=tokenizer)\n",
    "\n",
    "complnb_tfidf = Pipeline([('vect', bow), ('clf', ComplementNB())])\n",
    "\n",
    "complnb_tfidf.fit(X_train, y_train)\n",
    "\n",
    "y_pred = complnb_tfidf.predict(X_test)\n",
    "\n",
    "elapsed = time() - t\n",
    "\n",
    "print(\"Model fit, took {0:,.2f} seconds ({1:,.2f} minutes)\".format(elapsed, elapsed / 60))\n",
    "print(classification_report(y_test, y_pred))"
   ]
  },
  {
   "cell_type": "markdown",
   "metadata": {},
   "source": [
    "### Logistic Regression"
   ]
  },
  {
   "cell_type": "code",
   "execution_count": 8,
   "metadata": {},
   "outputs": [
    {
     "name": "stderr",
     "output_type": "stream",
     "text": [
      "[Parallel(n_jobs=-1)]: Using backend SequentialBackend with 1 concurrent workers.\n",
      "/home/stepan/snap/jupyter/common/lib/python3.7/site-packages/sklearn/linear_model/logistic.py:947: ConvergenceWarning: lbfgs failed to converge. Increase the number of iterations.\n",
      "  \"of iterations.\", ConvergenceWarning)\n",
      "/home/stepan/snap/jupyter/common/lib/python3.7/site-packages/sklearn/linear_model/logistic.py:947: ConvergenceWarning: lbfgs failed to converge. Increase the number of iterations.\n",
      "  \"of iterations.\", ConvergenceWarning)\n",
      "/home/stepan/snap/jupyter/common/lib/python3.7/site-packages/sklearn/linear_model/logistic.py:947: ConvergenceWarning: lbfgs failed to converge. Increase the number of iterations.\n",
      "  \"of iterations.\", ConvergenceWarning)\n",
      "/home/stepan/snap/jupyter/common/lib/python3.7/site-packages/sklearn/linear_model/logistic.py:947: ConvergenceWarning: lbfgs failed to converge. Increase the number of iterations.\n",
      "  \"of iterations.\", ConvergenceWarning)\n",
      "/home/stepan/snap/jupyter/common/lib/python3.7/site-packages/sklearn/linear_model/logistic.py:947: ConvergenceWarning: lbfgs failed to converge. Increase the number of iterations.\n",
      "  \"of iterations.\", ConvergenceWarning)\n",
      "[Parallel(n_jobs=-1)]: Done   5 out of   5 | elapsed: 63.1min finished\n"
     ]
    },
    {
     "name": "stdout",
     "output_type": "stream",
     "text": [
      "Model fit, took 4,454.82 seconds (74.25 minutes)\n",
      "              precision    recall  f1-score   support\n",
      "\n",
      "         1.0       0.74      0.85      0.79    300647\n",
      "         2.0       0.52      0.23      0.32    162718\n",
      "         3.0       0.53      0.34      0.41    221784\n",
      "         4.0       0.53      0.42      0.47    440696\n",
      "         5.0       0.73      0.91      0.81    879925\n",
      "\n",
      "    accuracy                           0.68   2005770\n",
      "   macro avg       0.61      0.55      0.56   2005770\n",
      "weighted avg       0.65      0.68      0.65   2005770\n",
      "\n"
     ]
    }
   ],
   "source": [
    "t = time()\n",
    "\n",
    "bow = CountVectorizer(ngram_range=(1,1), tokenizer=tokenizer)\n",
    "\n",
    "lr_tfidf = Pipeline([('vect', bow), ('clf', LogisticRegression(random_state=random_state, verbose=1,\n",
    "                                                               solver='lbfgs', multi_class='ovr',\n",
    "                                                               penalty='l2', C=1.0, n_jobs=-1))])\n",
    "\n",
    "lr_tfidf.fit(X_train, y_train)\n",
    "\n",
    "y_pred = lr_tfidf.predict(X_test)\n",
    "\n",
    "elapsed = time() - t\n",
    "\n",
    "print(\"Model fit, took {0:,.2f} seconds ({1:,.2f} minutes)\".format(elapsed, elapsed / 60))\n",
    "print(classification_report(y_test, y_pred))"
   ]
  },
  {
   "cell_type": "markdown",
   "metadata": {},
   "source": [
    "### Linear Support Vector Classifier"
   ]
  },
  {
   "cell_type": "code",
   "execution_count": null,
   "metadata": {},
   "outputs": [],
   "source": [
    "t = time()\n",
    "\n",
    "bow = CountVectorizer(ngram_range=(1,1), tokenizer=tokenizer)\n",
    "\n",
    "lsvc_tfidf = Pipeline([('vect', bow), ('clf', LinearSVC(random_state=random_state,\n",
    "                                                        penalty='l2', C=1.0))])\n",
    "\n",
    "lsvc_tfidf.fit(X_train, y_train)\n",
    "\n",
    "y_pred = lsvc_tfidf.predict(X_test)\n",
    "\n",
    "elapsed = time() - t\n",
    "\n",
    "print(\"Model fit, took {0:,.2f} seconds ({1:,.2f} minutes)\".format(elapsed, elapsed / 60))\n",
    "print(classification_report(y_test, y_pred))"
   ]
  }
 ],
 "metadata": {
  "kernelspec": {
   "display_name": "Python 3",
   "language": "python",
   "name": "python3"
  },
  "language_info": {
   "codemirror_mode": {
    "name": "ipython",
    "version": 3
   },
   "file_extension": ".py",
   "mimetype": "text/x-python",
   "name": "python",
   "nbconvert_exporter": "python",
   "pygments_lexer": "ipython3",
   "version": "3.7.3"
  }
 },
 "nbformat": 4,
 "nbformat_minor": 2
}
